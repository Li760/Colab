{
  "nbformat": 4,
  "nbformat_minor": 0,
  "metadata": {
    "colab": {
      "name": "scoreSalary_linear regression.ipynb",
      "provenance": [],
      "collapsed_sections": [],
      "authorship_tag": "ABX9TyNEw3KZytWLfDXnqUJGcqSE",
      "include_colab_link": true
    },
    "kernelspec": {
      "name": "python3",
      "display_name": "Python 3"
    },
    "language_info": {
      "name": "python"
    }
  },
  "cells": [
    {
      "cell_type": "markdown",
      "metadata": {
        "id": "view-in-github",
        "colab_type": "text"
      },
      "source": [
        "<a href=\"https://colab.research.google.com/github/Li760/Colab/blob/main/scoreSalary_linear_regression.ipynb\" target=\"_parent\"><img src=\"https://colab.research.google.com/assets/colab-badge.svg\" alt=\"Open In Colab\"/></a>"
      ]
    },
    {
      "cell_type": "markdown",
      "source": [
        "<簡介>\n",
        "\n",
        "目的：使用python語言建立機器學習模型，分析資料\n",
        "\n",
        "資料集：自製資料\"scoreSalary\"\n",
        "\n",
        "機器學習模型：linear regression\n",
        "\n",
        "<參考資料>\n",
        "\n",
        "https://ithelp.ithome.com.tw/articles/10206114\n",
        "\n",
        "https://matters.news/@CHWang/92854-machine-learning-linear-regression%E8%BF%B4%E6%AD%B8%E6%A8%A1%E5%9E%8B-%E5%BC%B7%E5%A4%A7%E7%9A%84sklearn-%E7%B0%A1%E5%96%AE%E7%B7%9A%E6%80%A7%E8%BF%B4%E6%AD%B8%E6%A8%A1%E5%9E%8B-%E5%A4%9A%E9%A0%85%E5%BC%8F%E8%BF%B4%E6%AD%B8%E6%A8%A1%E5%9E%8B-%E5%A4%9A%E5%85%83%E8%BF%B4%E6%AD%B8%E6%A8%A1%E5%9E%8B-%E5%AE%8C%E6%95%B4%E5%AF%A6%E4%BD%9C%E6%95%99%E5%AD%B8-bafyreidbro25dokrljhrdiwfsyc2gg345yiym2uirxu4l3nc6zbxntdaqq\n",
        "\n",
        "https://clay-atlas.com/blog/2021/09/06/machine-learning-cn-mean-absolute-error/"
      ],
      "metadata": {
        "id": "W0gKvrEVrMAF"
      }
    },
    {
      "cell_type": "code",
      "execution_count": null,
      "metadata": {
        "id": "IbWxYyQOrKRL"
      },
      "outputs": [],
      "source": [
        "#匯入需要的套件\n",
        "import pandas as pd\n",
        "import numpy as np"
      ]
    },
    {
      "cell_type": "code",
      "source": [
        "#匯入資料\n",
        "df = pd.read_csv(\"scoreSalary.csv\")\n",
        "df.head()"
      ],
      "metadata": {
        "id": "w10KnrKmsaAO"
      },
      "execution_count": null,
      "outputs": []
    },
    {
      "cell_type": "code",
      "source": [
        "#準備兩份features(X值)與labels(Y值)皆為已知的資料\n",
        "#用train來訓練模型(找到斜率與截距)\n",
        "#用test來驗證模型(validation)\n",
        "X_train = np.array(df[\"score\"])\n",
        "y_train = np.array(df[\"salary\"])\n",
        "X_test = np.array([25,30,35,40])\n",
        "y_test = np.array([88,103,118,133])"
      ],
      "metadata": {
        "id": "wJ7Hattj1dsk"
      },
      "execution_count": null,
      "outputs": []
    },
    {
      "cell_type": "code",
      "source": [
        "#匯入繪圖套件，並繪製散佈圖\n",
        "import matplotlib.pyplot as plt\n",
        "plt.scatter(X_train, y_train)"
      ],
      "metadata": {
        "id": "dFAuWqFloQc-"
      },
      "execution_count": null,
      "outputs": []
    },
    {
      "cell_type": "code",
      "source": [
        "#匯入機器學習模型\"LinearRegression\"\"\n",
        "from sklearn.linear_model import LinearRegression\n",
        "#將模型命名\n",
        "model = LinearRegression()\n",
        "#用train資料訓練模型\n",
        "model.fit(X_train.reshape(-1,1), y_train)\n",
        "#計算R平方值(值愈大表示模型的數學公式愈能描述既有資料)\n",
        "RSquare = model.score(X_train.reshape(-1,1), y_train)\n",
        "print(RSquare)"
      ],
      "metadata": {
        "colab": {
          "base_uri": "https://localhost:8080/"
        },
        "id": "lO4sDilqzFbB",
        "outputId": "b0a368e0-2b79-4429-f3a0-0dd7cd36c612"
      },
      "execution_count": null,
      "outputs": [
        {
          "output_type": "stream",
          "name": "stdout",
          "text": [
            "0.9335131054868424\n"
          ]
        }
      ]
    },
    {
      "cell_type": "code",
      "source": [
        "#用test資料驗證模型\n",
        "#還記得嗎?y_test是[88,103,118,133]\n",
        "predict_y = model.predict(X_test.reshape(-1,1))\n",
        "print(predict_y)\n",
        "#計算Mean Absolute Error來判斷模型預測值與實際值的差距，差距愈小表示模型愈準確\n",
        "MAE = np.sum(np.abs(y_test - predict_y))/4\n",
        "print(MAE)"
      ],
      "metadata": {
        "colab": {
          "base_uri": "https://localhost:8080/"
        },
        "id": "jw7spYi94F6j",
        "outputId": "89dd7fd6-6953-4f66-8e16-632ddf9abf1a"
      },
      "execution_count": null,
      "outputs": [
        {
          "output_type": "stream",
          "name": "stdout",
          "text": [
            "[130.41804511 153.99323308 177.56842105 201.14360902]\n",
            "55.28082706766918\n"
          ]
        }
      ]
    }
  ]
}